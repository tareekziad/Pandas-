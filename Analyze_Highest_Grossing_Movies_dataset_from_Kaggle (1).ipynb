{
 "cells": [
  {
   "cell_type": "markdown",
   "metadata": {
    "id": "Q5vzmPYic2_W"
   },
   "source": [
    "# Highest Grossing Movies Exercise - Solutions\n",
    "\n",
    "Welcome to a quick exercise for you to practice your pandas skills! We will be using the [Highest Holywood Grossing Movies Dataset](https://www.kaggle.com/sanjeetsinghnaik/top-1000-highest-grossing-movies) from Kaggle! Just follow along and complete the tasks outlined in bold below. The tasks will get harder and harder as you go along."
   ]
  },
  {
   "cell_type": "markdown",
   "metadata": {
    "id": "4D4_5EVac2_e"
   },
   "source": [
    "**Import pandas as pd.**"
   ]
  },
  {
   "cell_type": "code",
   "execution_count": 14,
   "metadata": {
    "id": "mGcneqyqc2_f"
   },
   "outputs": [],
   "source": [
    "import pandas as pd\n",
    "import numpy as np"
   ]
  },
  {
   "cell_type": "markdown",
   "metadata": {
    "id": "Wou-6Vumc2_g"
   },
   "source": [
    "**Read Highest Holywood Grossing Movies.csv as a dataframe called movies.**"
   ]
  },
  {
   "cell_type": "code",
   "execution_count": 2,
   "metadata": {
    "id": "J24GzFOuc2_h"
   },
   "outputs": [],
   "source": [
    "movies=pd.read_csv('Highest Holywood Grossing Movies.csv')"
   ]
  },
  {
   "cell_type": "markdown",
   "metadata": {
    "id": "aD0OrA4bc2_i"
   },
   "source": [
    "**Check the head of the DataFrame.**"
   ]
  },
  {
   "cell_type": "code",
   "execution_count": 3,
   "metadata": {
    "id": "_EhcK-vuc2_j",
    "outputId": "5567828c-844c-4c77-de07-eb141b7817ce"
   },
   "outputs": [
    {
     "data": {
      "text/html": [
       "<div>\n",
       "<style scoped>\n",
       "    .dataframe tbody tr th:only-of-type {\n",
       "        vertical-align: middle;\n",
       "    }\n",
       "\n",
       "    .dataframe tbody tr th {\n",
       "        vertical-align: top;\n",
       "    }\n",
       "\n",
       "    .dataframe thead th {\n",
       "        text-align: right;\n",
       "    }\n",
       "</style>\n",
       "<table border=\"1\" class=\"dataframe\">\n",
       "  <thead>\n",
       "    <tr style=\"text-align: right;\">\n",
       "      <th></th>\n",
       "      <th>Unnamed: 0</th>\n",
       "      <th>Title</th>\n",
       "      <th>Movie Info</th>\n",
       "      <th>Distributor</th>\n",
       "      <th>Release Date</th>\n",
       "      <th>Domestic Sales (in $)</th>\n",
       "      <th>International Sales (in $)</th>\n",
       "      <th>World Sales (in $)</th>\n",
       "      <th>Genre</th>\n",
       "      <th>Movie Runtime</th>\n",
       "      <th>License</th>\n",
       "    </tr>\n",
       "  </thead>\n",
       "  <tbody>\n",
       "    <tr>\n",
       "      <th>0</th>\n",
       "      <td>0</td>\n",
       "      <td>Star Wars: Episode VII - The Force Awakens (2015)</td>\n",
       "      <td>As a new threat to the galaxy rises, Rey, a de...</td>\n",
       "      <td>Walt Disney Studios Motion Pictures</td>\n",
       "      <td>December 16, 2015</td>\n",
       "      <td>936662225</td>\n",
       "      <td>1132859475</td>\n",
       "      <td>2069521700</td>\n",
       "      <td>['Action', 'Adventure', 'Sci-Fi']</td>\n",
       "      <td>2 hr 18 min</td>\n",
       "      <td>PG-13</td>\n",
       "    </tr>\n",
       "    <tr>\n",
       "      <th>1</th>\n",
       "      <td>1</td>\n",
       "      <td>Avengers: Endgame (2019)</td>\n",
       "      <td>After the devastating events of Avengers: Infi...</td>\n",
       "      <td>Walt Disney Studios Motion Pictures</td>\n",
       "      <td>April 24, 2019</td>\n",
       "      <td>858373000</td>\n",
       "      <td>1939128328</td>\n",
       "      <td>2797501328</td>\n",
       "      <td>['Action', 'Adventure', 'Drama', 'Sci-Fi']</td>\n",
       "      <td>3 hr 1 min</td>\n",
       "      <td>PG-13</td>\n",
       "    </tr>\n",
       "    <tr>\n",
       "      <th>2</th>\n",
       "      <td>2</td>\n",
       "      <td>Avatar (2009)</td>\n",
       "      <td>A paraplegic Marine dispatched to the moon Pan...</td>\n",
       "      <td>Twentieth Century Fox</td>\n",
       "      <td>December 16, 2009</td>\n",
       "      <td>760507625</td>\n",
       "      <td>2086738578</td>\n",
       "      <td>2847246203</td>\n",
       "      <td>['Action', 'Adventure', 'Fantasy', 'Sci-Fi']</td>\n",
       "      <td>2 hr 42 min</td>\n",
       "      <td>PG-13</td>\n",
       "    </tr>\n",
       "    <tr>\n",
       "      <th>3</th>\n",
       "      <td>3</td>\n",
       "      <td>Black Panther (2018)</td>\n",
       "      <td>T'Challa, heir to the hidden but advanced king...</td>\n",
       "      <td>Walt Disney Studios Motion Pictures</td>\n",
       "      <td>NaN</td>\n",
       "      <td>700426566</td>\n",
       "      <td>647171407</td>\n",
       "      <td>1347597973</td>\n",
       "      <td>['Action', 'Adventure', 'Sci-Fi']</td>\n",
       "      <td>2 hr 14 min</td>\n",
       "      <td>NaN</td>\n",
       "    </tr>\n",
       "    <tr>\n",
       "      <th>4</th>\n",
       "      <td>4</td>\n",
       "      <td>Avengers: Infinity War (2018)</td>\n",
       "      <td>The Avengers and their allies must be willing ...</td>\n",
       "      <td>Walt Disney Studios Motion Pictures</td>\n",
       "      <td>NaN</td>\n",
       "      <td>678815482</td>\n",
       "      <td>1369544272</td>\n",
       "      <td>2048359754</td>\n",
       "      <td>['Action', 'Adventure', 'Sci-Fi']</td>\n",
       "      <td>2 hr 29 min</td>\n",
       "      <td>NaN</td>\n",
       "    </tr>\n",
       "  </tbody>\n",
       "</table>\n",
       "</div>"
      ],
      "text/plain": [
       "   Unnamed: 0                                              Title  \\\n",
       "0           0  Star Wars: Episode VII - The Force Awakens (2015)   \n",
       "1           1                           Avengers: Endgame (2019)   \n",
       "2           2                                      Avatar (2009)   \n",
       "3           3                               Black Panther (2018)   \n",
       "4           4                      Avengers: Infinity War (2018)   \n",
       "\n",
       "                                          Movie Info  \\\n",
       "0  As a new threat to the galaxy rises, Rey, a de...   \n",
       "1  After the devastating events of Avengers: Infi...   \n",
       "2  A paraplegic Marine dispatched to the moon Pan...   \n",
       "3  T'Challa, heir to the hidden but advanced king...   \n",
       "4  The Avengers and their allies must be willing ...   \n",
       "\n",
       "                           Distributor       Release Date  \\\n",
       "0  Walt Disney Studios Motion Pictures  December 16, 2015   \n",
       "1  Walt Disney Studios Motion Pictures     April 24, 2019   \n",
       "2                Twentieth Century Fox  December 16, 2009   \n",
       "3  Walt Disney Studios Motion Pictures                NaN   \n",
       "4  Walt Disney Studios Motion Pictures                NaN   \n",
       "\n",
       "   Domestic Sales (in $)  International Sales (in $)  World Sales (in $)  \\\n",
       "0              936662225                  1132859475          2069521700   \n",
       "1              858373000                  1939128328          2797501328   \n",
       "2              760507625                  2086738578          2847246203   \n",
       "3              700426566                   647171407          1347597973   \n",
       "4              678815482                  1369544272          2048359754   \n",
       "\n",
       "                                          Genre Movie Runtime License  \n",
       "0             ['Action', 'Adventure', 'Sci-Fi']   2 hr 18 min   PG-13  \n",
       "1    ['Action', 'Adventure', 'Drama', 'Sci-Fi']    3 hr 1 min   PG-13  \n",
       "2  ['Action', 'Adventure', 'Fantasy', 'Sci-Fi']   2 hr 42 min   PG-13  \n",
       "3             ['Action', 'Adventure', 'Sci-Fi']   2 hr 14 min     NaN  \n",
       "4             ['Action', 'Adventure', 'Sci-Fi']   2 hr 29 min     NaN  "
      ]
     },
     "execution_count": 3,
     "metadata": {},
     "output_type": "execute_result"
    }
   ],
   "source": [
    "movies.head()"
   ]
  },
  {
   "cell_type": "markdown",
   "metadata": {
    "id": "t5DS5cF6c2_l"
   },
   "source": [
    "**How many rows and columns are there?**"
   ]
  },
  {
   "cell_type": "code",
   "execution_count": 4,
   "metadata": {
    "id": "r4k91ZZic2_m",
    "outputId": "bf6b829e-c4a0-4d65-8f0d-bf979d782bae"
   },
   "outputs": [
    {
     "name": "stdout",
     "output_type": "stream",
     "text": [
      "<class 'pandas.core.frame.DataFrame'>\n",
      "RangeIndex: 918 entries, 0 to 917\n",
      "Data columns (total 11 columns):\n",
      " #   Column                      Non-Null Count  Dtype \n",
      "---  ------                      --------------  ----- \n",
      " 0   Unnamed: 0                  918 non-null    int64 \n",
      " 1   Title                       918 non-null    object\n",
      " 2   Movie Info                  918 non-null    object\n",
      " 3   Distributor                 918 non-null    object\n",
      " 4   Release Date                800 non-null    object\n",
      " 5   Domestic Sales (in $)       918 non-null    int64 \n",
      " 6   International Sales (in $)  918 non-null    int64 \n",
      " 7   World Sales (in $)          918 non-null    int64 \n",
      " 8   Genre                       918 non-null    object\n",
      " 9   Movie Runtime               918 non-null    object\n",
      " 10  License                     744 non-null    object\n",
      "dtypes: int64(4), object(7)\n",
      "memory usage: 79.0+ KB\n"
     ]
    }
   ],
   "source": [
    "movies.info()"
   ]
  },
  {
   "cell_type": "markdown",
   "metadata": {
    "id": "uryaVt7wc2_n"
   },
   "source": [
    "**Use the .describe() method to get some statistics for the numeric columns of the data**"
   ]
  },
  {
   "cell_type": "code",
   "execution_count": 5,
   "metadata": {
    "id": "wTuvJJ34c2_o",
    "outputId": "d91d50c7-6cc1-4527-d1dd-5ab00850aac5"
   },
   "outputs": [
    {
     "data": {
      "text/html": [
       "<div>\n",
       "<style scoped>\n",
       "    .dataframe tbody tr th:only-of-type {\n",
       "        vertical-align: middle;\n",
       "    }\n",
       "\n",
       "    .dataframe tbody tr th {\n",
       "        vertical-align: top;\n",
       "    }\n",
       "\n",
       "    .dataframe thead th {\n",
       "        text-align: right;\n",
       "    }\n",
       "</style>\n",
       "<table border=\"1\" class=\"dataframe\">\n",
       "  <thead>\n",
       "    <tr style=\"text-align: right;\">\n",
       "      <th></th>\n",
       "      <th>Unnamed: 0</th>\n",
       "      <th>Domestic Sales (in $)</th>\n",
       "      <th>International Sales (in $)</th>\n",
       "      <th>World Sales (in $)</th>\n",
       "    </tr>\n",
       "  </thead>\n",
       "  <tbody>\n",
       "    <tr>\n",
       "      <th>count</th>\n",
       "      <td>918.000000</td>\n",
       "      <td>9.180000e+02</td>\n",
       "      <td>9.180000e+02</td>\n",
       "      <td>9.180000e+02</td>\n",
       "    </tr>\n",
       "    <tr>\n",
       "      <th>mean</th>\n",
       "      <td>458.500000</td>\n",
       "      <td>1.677469e+08</td>\n",
       "      <td>2.301434e+08</td>\n",
       "      <td>3.968668e+08</td>\n",
       "    </tr>\n",
       "    <tr>\n",
       "      <th>std</th>\n",
       "      <td>265.148072</td>\n",
       "      <td>1.040360e+08</td>\n",
       "      <td>2.176011e+08</td>\n",
       "      <td>3.082629e+08</td>\n",
       "    </tr>\n",
       "    <tr>\n",
       "      <th>min</th>\n",
       "      <td>0.000000</td>\n",
       "      <td>8.036084e+07</td>\n",
       "      <td>2.600000e+02</td>\n",
       "      <td>8.160000e+07</td>\n",
       "    </tr>\n",
       "    <tr>\n",
       "      <th>25%</th>\n",
       "      <td>229.250000</td>\n",
       "      <td>1.016071e+08</td>\n",
       "      <td>8.845620e+07</td>\n",
       "      <td>2.005564e+08</td>\n",
       "    </tr>\n",
       "    <tr>\n",
       "      <th>50%</th>\n",
       "      <td>458.500000</td>\n",
       "      <td>1.321351e+08</td>\n",
       "      <td>1.638819e+08</td>\n",
       "      <td>3.019416e+08</td>\n",
       "    </tr>\n",
       "    <tr>\n",
       "      <th>75%</th>\n",
       "      <td>687.750000</td>\n",
       "      <td>1.913905e+08</td>\n",
       "      <td>2.885577e+08</td>\n",
       "      <td>4.750718e+08</td>\n",
       "    </tr>\n",
       "    <tr>\n",
       "      <th>max</th>\n",
       "      <td>917.000000</td>\n",
       "      <td>9.366622e+08</td>\n",
       "      <td>2.086739e+09</td>\n",
       "      <td>2.847246e+09</td>\n",
       "    </tr>\n",
       "  </tbody>\n",
       "</table>\n",
       "</div>"
      ],
      "text/plain": [
       "       Unnamed: 0  Domestic Sales (in $)  International Sales (in $)  \\\n",
       "count  918.000000           9.180000e+02                9.180000e+02   \n",
       "mean   458.500000           1.677469e+08                2.301434e+08   \n",
       "std    265.148072           1.040360e+08                2.176011e+08   \n",
       "min      0.000000           8.036084e+07                2.600000e+02   \n",
       "25%    229.250000           1.016071e+08                8.845620e+07   \n",
       "50%    458.500000           1.321351e+08                1.638819e+08   \n",
       "75%    687.750000           1.913905e+08                2.885577e+08   \n",
       "max    917.000000           9.366622e+08                2.086739e+09   \n",
       "\n",
       "       World Sales (in $)  \n",
       "count        9.180000e+02  \n",
       "mean         3.968668e+08  \n",
       "std          3.082629e+08  \n",
       "min          8.160000e+07  \n",
       "25%          2.005564e+08  \n",
       "50%          3.019416e+08  \n",
       "75%          4.750718e+08  \n",
       "max          2.847246e+09  "
      ]
     },
     "execution_count": 5,
     "metadata": {},
     "output_type": "execute_result"
    }
   ],
   "source": [
    "movies.describe()"
   ]
  },
  {
   "cell_type": "markdown",
   "metadata": {
    "id": "k0ufIND9c2_r"
   },
   "source": [
    "**Check if there is any missing values or not**"
   ]
  },
  {
   "cell_type": "code",
   "execution_count": 6,
   "metadata": {
    "id": "-2IQoPRIc2_r",
    "outputId": "98180d3a-aa2c-4c61-c0a9-792900b65f23"
   },
   "outputs": [
    {
     "name": "stdout",
     "output_type": "stream",
     "text": [
      "<class 'pandas.core.frame.DataFrame'>\n",
      "RangeIndex: 918 entries, 0 to 917\n",
      "Data columns (total 11 columns):\n",
      " #   Column                      Non-Null Count  Dtype \n",
      "---  ------                      --------------  ----- \n",
      " 0   Unnamed: 0                  918 non-null    int64 \n",
      " 1   Title                       918 non-null    object\n",
      " 2   Movie Info                  918 non-null    object\n",
      " 3   Distributor                 918 non-null    object\n",
      " 4   Release Date                800 non-null    object\n",
      " 5   Domestic Sales (in $)       918 non-null    int64 \n",
      " 6   International Sales (in $)  918 non-null    int64 \n",
      " 7   World Sales (in $)          918 non-null    int64 \n",
      " 8   Genre                       918 non-null    object\n",
      " 9   Movie Runtime               918 non-null    object\n",
      " 10  License                     744 non-null    object\n",
      "dtypes: int64(4), object(7)\n",
      "memory usage: 79.0+ KB\n"
     ]
    }
   ],
   "source": [
    "movies.info()"
   ]
  },
  {
   "cell_type": "markdown",
   "metadata": {
    "id": "cAzPWPOac2_s"
   },
   "source": [
    "**what are the average International Sales?**"
   ]
  },
  {
   "cell_type": "code",
   "execution_count": 7,
   "metadata": {
    "id": "jxZPLyA6c2_s",
    "outputId": "ebc0f6ba-3891-4fb7-ea60-05a86434bf86"
   },
   "outputs": [
    {
     "data": {
      "text/plain": [
       "230143435.58496732"
      ]
     },
     "execution_count": 7,
     "metadata": {},
     "output_type": "execute_result"
    }
   ],
   "source": [
    "movies['International Sales (in $)'].mean()"
   ]
  },
  {
   "cell_type": "markdown",
   "metadata": {
    "id": "s2UuGsMHc2_t"
   },
   "source": [
    "**what are the highest and lowest World Sales?**"
   ]
  },
  {
   "cell_type": "code",
   "execution_count": 8,
   "metadata": {
    "id": "KoADcsSvc2_t",
    "outputId": "fd3facfa-e7ac-41c4-f049-ea33f51d2abe"
   },
   "outputs": [
    {
     "data": {
      "text/plain": [
       "2847246203"
      ]
     },
     "execution_count": 8,
     "metadata": {},
     "output_type": "execute_result"
    }
   ],
   "source": [
    "movies['World Sales (in $)'].max()"
   ]
  },
  {
   "cell_type": "code",
   "execution_count": 9,
   "metadata": {
    "id": "RI_nHGfOc2_t",
    "outputId": "45536757-05c4-4c6c-ab9d-9f67c7be9971"
   },
   "outputs": [
    {
     "data": {
      "text/plain": [
       "81600000"
      ]
     },
     "execution_count": 9,
     "metadata": {},
     "output_type": "execute_result"
    }
   ],
   "source": [
    "movies['World Sales (in $)'].min()"
   ]
  },
  {
   "cell_type": "markdown",
   "metadata": {
    "id": "uMwLa4bVc2_u"
   },
   "source": [
    "**How many films have been distributed by 'DreamWorks'?**"
   ]
  },
  {
   "cell_type": "code",
   "execution_count": 10,
   "metadata": {
    "id": "mbRfvMC_c2_u",
    "outputId": "4c8b4a42-27a2-4f98-a04d-001171a3f276"
   },
   "outputs": [
    {
     "data": {
      "text/plain": [
       "21"
      ]
     },
     "execution_count": 10,
     "metadata": {},
     "output_type": "execute_result"
    }
   ],
   "source": [
    "movies[movies['Distributor']=='DreamWorks']['Title'].count()"
   ]
  },
  {
   "cell_type": "markdown",
   "metadata": {
    "id": "C1CbtIlcc2_u"
   },
   "source": [
    "**What are the top 5 common distributer?**\n",
    "**(Hint: Check out [value_counts()](http://pandas.pydata.org/pandas-docs/stable/generated/pandas.Series.value_counts.html) )**"
   ]
  },
  {
   "cell_type": "code",
   "execution_count": 11,
   "metadata": {
    "id": "1CzbLXryc2_u",
    "outputId": "b6db2349-39be-4995-d4f9-0af86b465b03"
   },
   "outputs": [
    {
     "data": {
      "text/plain": [
       "Warner Bros.                           158\n",
       "Walt Disney Studios Motion Pictures    155\n",
       "Universal Pictures                     119\n",
       "Twentieth Century Fox                  117\n",
       "Sony Pictures Entertainment (SPE)      101\n",
       "Name: Distributor, dtype: int64"
      ]
     },
     "execution_count": 11,
     "metadata": {},
     "output_type": "execute_result"
    }
   ],
   "source": [
    "movies['Distributor'].value_counts().head()"
   ]
  },
  {
   "cell_type": "markdown",
   "metadata": {
    "id": "FlQvZsEsc2_v"
   },
   "source": [
    "**How many films have licence 'PG-13' and disributed by 'Universal Pictures'**"
   ]
  },
  {
   "cell_type": "code",
   "execution_count": 12,
   "metadata": {
    "id": "gS1jy7WBc2_v",
    "outputId": "6ed883d1-34c1-4340-c92d-f86ff95edf20"
   },
   "outputs": [
    {
     "data": {
      "text/plain": [
       "57"
      ]
     },
     "execution_count": 12,
     "metadata": {},
     "output_type": "execute_result"
    }
   ],
   "source": [
    "movies[(movies['Distributor']=='Universal Pictures' )&(movies['License']=='PG-13')]['Title'].count()"
   ]
  },
  {
   "cell_type": "markdown",
   "metadata": {
    "id": "NenKRvqSc2_v"
   },
   "source": [
    "**How many films released in 2017?**"
   ]
  },
  {
   "cell_type": "code",
   "execution_count": 42,
   "metadata": {},
   "outputs": [],
   "source": [
    "def get_release_year(r):\n",
    "    try:\n",
    "        return r[-4:]\n",
    "    except:\n",
    "        return np.nan"
   ]
  },
  {
   "cell_type": "code",
   "execution_count": 43,
   "metadata": {},
   "outputs": [],
   "source": [
    "movies['Release_Year'] = movies['Release Date'].apply(get_release_year)"
   ]
  },
  {
   "cell_type": "code",
   "execution_count": 46,
   "metadata": {},
   "outputs": [
    {
     "data": {
      "text/plain": [
       "32"
      ]
     },
     "execution_count": 46,
     "metadata": {},
     "output_type": "execute_result"
    }
   ],
   "source": [
    "movies[movies['Release_Year']=='2017'].shape[0]"
   ]
  },
  {
   "cell_type": "code",
   "execution_count": 38,
   "metadata": {},
   "outputs": [],
   "source": []
  },
  {
   "cell_type": "markdown",
   "metadata": {
    "id": "hbVng6IHc2_x"
   },
   "source": [
    "**What is the  film title with Longest runtime?**"
   ]
  },
  {
   "cell_type": "code",
   "execution_count": null,
   "metadata": {},
   "outputs": [],
   "source": [
    "def get_movie_length(r):\n",
    "    lst = r.split(' ')\n",
    "    if len(lst) > 2:\n",
    "        duration = (int(lst[0]) * 60 ) + int(lst[2])\n",
    "    else:\n",
    "        duration = int(lst[0]) * 60\n",
    "    return duration"
   ]
  },
  {
   "cell_type": "code",
   "execution_count": null,
   "metadata": {},
   "outputs": [],
   "source": [
    "movies['min']= movies['Movie Runtime'].apply(get_movie_length)"
   ]
  },
  {
   "cell_type": "code",
   "execution_count": 40,
   "metadata": {
    "id": "DJZbOZhWc2_x"
   },
   "outputs": [
    {
     "data": {
      "text/plain": [
       "45    The Lord of the Rings: The Return of the King ...\n",
       "Name: Title, dtype: object"
      ]
     },
     "execution_count": 40,
     "metadata": {},
     "output_type": "execute_result"
    }
   ],
   "source": [
    "movies[movies['min']==movies['min'].max()]['Title']"
   ]
  },
  {
   "cell_type": "markdown",
   "metadata": {
    "id": "fLFImOc5c2_y"
   },
   "source": [
    "**What is the  film title with Shortest runtime?**"
   ]
  },
  {
   "cell_type": "code",
   "execution_count": null,
   "metadata": {},
   "outputs": [],
   "source": [
    "movies[movies['min']==movies['min'].min()]['Title']"
   ]
  },
  {
   "cell_type": "markdown",
   "metadata": {
    "id": "lI4e_UIQc2_y"
   },
   "source": [
    "# Great Job!"
   ]
  }
 ],
 "metadata": {
  "colab": {
   "name": "Analyze Highest Grossing Movies dataset from Kaggle.ipynb",
   "provenance": []
  },
  "kernelspec": {
   "display_name": "Python 3 (ipykernel)",
   "language": "python",
   "name": "python3"
  },
  "language_info": {
   "codemirror_mode": {
    "name": "ipython",
    "version": 3
   },
   "file_extension": ".py",
   "mimetype": "text/x-python",
   "name": "python",
   "nbconvert_exporter": "python",
   "pygments_lexer": "ipython3",
   "version": "3.9.7"
  }
 },
 "nbformat": 4,
 "nbformat_minor": 1
}
